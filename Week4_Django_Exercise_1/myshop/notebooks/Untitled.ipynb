{
 "cells": [
  {
   "cell_type": "code",
   "execution_count": 1,
   "id": "3c4c323b",
   "metadata": {},
   "outputs": [],
   "source": [
    "import os\n",
    "os.environ[\"DJANGO_ALLOW_ASYNC_UNSAFE\"] = \"true\""
   ]
  },
  {
   "cell_type": "code",
   "execution_count": 4,
   "id": "a9594edd",
   "metadata": {},
   "outputs": [],
   "source": [
    "from shop.models import *"
   ]
  },
  {
   "cell_type": "code",
   "execution_count": 5,
   "id": "635e08aa",
   "metadata": {},
   "outputs": [
    {
     "name": "stdout",
     "output_type": "stream",
     "text": [
      "ProductCategory object (1)\n",
      "ProductCategory object (2)\n",
      "ProductCategory object (3)\n",
      "ProductCategory object (4)\n",
      "ProductCategory object (5)\n",
      "ProductCategory object (6)\n",
      "ProductCategory object (7)\n",
      "ProductCategory object (8)\n",
      "ProductCategory object (9)\n"
     ]
    }
   ],
   "source": [
    "for prodcate in ProductCategory.objects.all():\n",
    "    print(prodcate)"
   ]
  },
  {
   "cell_type": "code",
   "execution_count": 6,
   "id": "378564a2",
   "metadata": {},
   "outputs": [
    {
     "data": {
      "text/plain": [
       "<QuerySet [<ProductCategory: ProductCategory object (1)>, <ProductCategory: ProductCategory object (2)>, <ProductCategory: ProductCategory object (3)>, <ProductCategory: ProductCategory object (4)>, <ProductCategory: ProductCategory object (5)>, <ProductCategory: ProductCategory object (6)>, <ProductCategory: ProductCategory object (7)>, <ProductCategory: ProductCategory object (8)>, <ProductCategory: ProductCategory object (9)>]>"
      ]
     },
     "execution_count": 6,
     "metadata": {},
     "output_type": "execute_result"
    }
   ],
   "source": [
    "ProductCategory.objects.all()"
   ]
  },
  {
   "cell_type": "code",
   "execution_count": null,
   "id": "1583912a",
   "metadata": {},
   "outputs": [],
   "source": []
  }
 ],
 "metadata": {
  "kernelspec": {
   "display_name": "Django Shell-Plus",
   "language": "python",
   "name": "django_extensions"
  },
  "language_info": {
   "codemirror_mode": {
    "name": "ipython",
    "version": 3
   },
   "file_extension": ".py",
   "mimetype": "text/x-python",
   "name": "python",
   "nbconvert_exporter": "python",
   "pygments_lexer": "ipython3",
   "version": "3.13.5"
  }
 },
 "nbformat": 4,
 "nbformat_minor": 5
}
