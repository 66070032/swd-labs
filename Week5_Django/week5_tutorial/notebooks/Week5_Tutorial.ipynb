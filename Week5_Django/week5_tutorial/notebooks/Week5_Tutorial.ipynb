{
 "cells": [
  {
   "cell_type": "code",
   "execution_count": 4,
   "id": "193a6d95",
   "metadata": {},
   "outputs": [],
   "source": [
    "import os\n",
    "os.environ[\"DJANGO_ALLOW_ASYNC_UNSAFE\"] = \"true\""
   ]
  },
  {
   "cell_type": "code",
   "execution_count": 5,
   "id": "47c2f9f0",
   "metadata": {},
   "outputs": [
    {
     "data": {
      "text/plain": [
       "<Company: Company CCC>"
      ]
     },
     "execution_count": 5,
     "metadata": {},
     "output_type": "execute_result"
    }
   ],
   "source": [
    "from companies.models import *\n",
    "Company.objects.create(name=\"Company AAA\", num_employees=120, num_chairs=150, num_tables=60)\n",
    "Company.objects.create(name=\"Company BBB\", num_employees=50, num_chairs=30, num_tables=20)\n",
    "Company.objects.create(name=\"Company CCC\", num_employees=100, num_chairs=40, num_tables=40)"
   ]
  },
  {
   "cell_type": "code",
   "execution_count": 6,
   "id": "729b00ec",
   "metadata": {},
   "outputs": [],
   "source": [
    "from django.db.models import Count, F, Value\n",
    "from django.db.models.functions import Length, Upper\n",
    "from django.db.models.lookups import GreaterThan"
   ]
  },
  {
   "cell_type": "code",
   "execution_count": 7,
   "id": "6a0511cd",
   "metadata": {},
   "outputs": [
    {
     "data": {
      "text/plain": [
       "<QuerySet [<Company: Company BBB>, <Company: Company CCC>]>"
      ]
     },
     "execution_count": 7,
     "metadata": {},
     "output_type": "execute_result"
    }
   ],
   "source": [
    "Company.objects.filter(num_employees__gt=F(\"num_chairs\"))"
   ]
  },
  {
   "cell_type": "code",
   "execution_count": 8,
   "id": "581fbc80",
   "metadata": {},
   "outputs": [
    {
     "data": {
      "text/plain": [
       "<QuerySet [<Company: Company CCC>]>"
      ]
     },
     "execution_count": 8,
     "metadata": {},
     "output_type": "execute_result"
    }
   ],
   "source": [
    "Company.objects.filter(num_employees__gt=F(\"num_chairs\") * 2)"
   ]
  },
  {
   "cell_type": "code",
   "execution_count": 9,
   "id": "445950a2",
   "metadata": {},
   "outputs": [
    {
     "data": {
      "text/plain": [
       "<QuerySet [<Company: Company CCC>]>"
      ]
     },
     "execution_count": 9,
     "metadata": {},
     "output_type": "execute_result"
    }
   ],
   "source": [
    "Company.objects.filter(num_employees__gt=F(\"num_chairs\") + F(\"num_tables\"))"
   ]
  },
  {
   "cell_type": "code",
   "execution_count": 10,
   "id": "26b32864",
   "metadata": {},
   "outputs": [],
   "source": [
    "company = (\n",
    "    Company.objects.filter(num_employees__gt=F(\"num_chairs\"))\n",
    "    .annotate(chairs_needed=F(\"num_employees\") - F(\"num_chairs\"))\n",
    "    .first()\n",
    ")"
   ]
  },
  {
   "cell_type": "code",
   "execution_count": 11,
   "id": "2c556139",
   "metadata": {},
   "outputs": [
    {
     "data": {
      "text/plain": [
       "'Company BBB'"
      ]
     },
     "execution_count": 11,
     "metadata": {},
     "output_type": "execute_result"
    }
   ],
   "source": [
    "company.name"
   ]
  },
  {
   "cell_type": "code",
   "execution_count": 12,
   "id": "7b991600",
   "metadata": {},
   "outputs": [
    {
     "data": {
      "text/plain": [
       "20"
      ]
     },
     "execution_count": 12,
     "metadata": {},
     "output_type": "execute_result"
    }
   ],
   "source": [
    "company.chairs_needed"
   ]
  },
  {
   "cell_type": "code",
   "execution_count": 13,
   "id": "4c6fb856",
   "metadata": {},
   "outputs": [],
   "source": [
    "from django.db.models import CharField, Value as V\n",
    "from django.db.models.functions import Concat"
   ]
  },
  {
   "cell_type": "code",
   "execution_count": 14,
   "id": "13e1532b",
   "metadata": {},
   "outputs": [
    {
     "name": "stdout",
     "output_type": "stream",
     "text": [
      "Company AAA ()\n",
      "Company BBB ()\n",
      "Company CCC ()\n"
     ]
    }
   ],
   "source": [
    "company = (\n",
    "    Company.objects.annotate(\n",
    "        fullname=Concat(\"name\", V(\" (\"), \"ticker\", V(\")\"))\n",
    "    )\n",
    ")\n",
    "\n",
    "for com in company:\n",
    "    print(com.fullname)"
   ]
  },
  {
   "cell_type": "code",
   "execution_count": 16,
   "id": "ffa63a90",
   "metadata": {},
   "outputs": [],
   "source": [
    "from books.models import *"
   ]
  },
  {
   "cell_type": "code",
   "execution_count": 17,
   "id": "14fab53c",
   "metadata": {},
   "outputs": [
    {
     "data": {
      "text/plain": [
       "59"
      ]
     },
     "execution_count": 17,
     "metadata": {},
     "output_type": "execute_result"
    }
   ],
   "source": [
    "Book.objects.count()"
   ]
  },
  {
   "cell_type": "code",
   "execution_count": 18,
   "id": "972f2616",
   "metadata": {},
   "outputs": [
    {
     "data": {
      "text/plain": [
       "20"
      ]
     },
     "execution_count": 18,
     "metadata": {},
     "output_type": "execute_result"
    }
   ],
   "source": [
    "Book.objects.filter(publisher__name=\"Penguin Books\").count()"
   ]
  },
  {
   "cell_type": "code",
   "execution_count": 19,
   "id": "dd89e5ff",
   "metadata": {},
   "outputs": [],
   "source": [
    "from django.db.models import Avg"
   ]
  },
  {
   "cell_type": "code",
   "execution_count": 20,
   "id": "1b279f4f",
   "metadata": {},
   "outputs": [
    {
     "data": {
      "text/plain": [
       "{'price__avg': Decimal('9.7018644067796610')}"
      ]
     },
     "execution_count": 20,
     "metadata": {},
     "output_type": "execute_result"
    }
   ],
   "source": [
    "Book.objects.aggregate(Avg(\"price\", default=0))"
   ]
  },
  {
   "cell_type": "code",
   "execution_count": 21,
   "id": "acd9d1f2",
   "metadata": {},
   "outputs": [],
   "source": [
    "from django.db.models import Max"
   ]
  },
  {
   "cell_type": "code",
   "execution_count": 22,
   "id": "a254deff",
   "metadata": {},
   "outputs": [
    {
     "data": {
      "text/plain": [
       "{'price__max': Decimal('14.99')}"
      ]
     },
     "execution_count": 22,
     "metadata": {},
     "output_type": "execute_result"
    }
   ],
   "source": [
    "Book.objects.aggregate(Max(\"price\", default=0))"
   ]
  },
  {
   "cell_type": "code",
   "execution_count": 24,
   "id": "090bb13c",
   "metadata": {},
   "outputs": [],
   "source": [
    "from books.models import Publisher\n",
    "from django.db.models import Count"
   ]
  },
  {
   "cell_type": "code",
   "execution_count": 25,
   "id": "a9489033",
   "metadata": {},
   "outputs": [],
   "source": [
    "pubs = Publisher.objects.annotate(num_books=Count(\"book\"))"
   ]
  },
  {
   "cell_type": "code",
   "execution_count": 28,
   "id": "b70543cc",
   "metadata": {},
   "outputs": [
    {
     "data": {
      "text/plain": [
       "20"
      ]
     },
     "execution_count": 28,
     "metadata": {},
     "output_type": "execute_result"
    }
   ],
   "source": [
    "pubs[0].num_books"
   ]
  },
  {
   "cell_type": "code",
   "execution_count": 29,
   "id": "24683c29",
   "metadata": {},
   "outputs": [
    {
     "data": {
      "text/plain": [
       "16"
      ]
     },
     "execution_count": 29,
     "metadata": {},
     "output_type": "execute_result"
    }
   ],
   "source": [
    "from django.db.models import Q\n",
    "above = Publisher.objects.annotate(above_4=Count(\"book\", filter=Q(book__rating__gt=4)))\n",
    "below = Publisher.objects.annotate(below_4=Count(\"book\", filter=Q(book__rating__lte=4)))\n",
    "above[0].above_4"
   ]
  },
  {
   "cell_type": "code",
   "execution_count": 30,
   "id": "e8d600a6",
   "metadata": {},
   "outputs": [
    {
     "data": {
      "text/plain": [
       "4"
      ]
     },
     "execution_count": 30,
     "metadata": {},
     "output_type": "execute_result"
    }
   ],
   "source": [
    "below[0].below_4"
   ]
  },
  {
   "cell_type": "code",
   "execution_count": 31,
   "id": "34a5756c",
   "metadata": {},
   "outputs": [],
   "source": [
    "pubs = Publisher.objects.annotate(num_books=Count(\"book\")).order_by(\"-num_books\")[:5]"
   ]
  },
  {
   "cell_type": "code",
   "execution_count": 32,
   "id": "afe5012a",
   "metadata": {},
   "outputs": [
    {
     "data": {
      "text/plain": [
       "39"
      ]
     },
     "execution_count": 32,
     "metadata": {},
     "output_type": "execute_result"
    }
   ],
   "source": [
    "pubs[0].num_books"
   ]
  },
  {
   "cell_type": "code",
   "execution_count": null,
   "id": "d1194c07",
   "metadata": {},
   "outputs": [],
   "source": []
  }
 ],
 "metadata": {
  "kernelspec": {
   "display_name": "Django Shell-Plus",
   "language": "python",
   "name": "django_extensions"
  },
  "language_info": {
   "codemirror_mode": {
    "name": "ipython",
    "version": 3
   },
   "file_extension": ".py",
   "mimetype": "text/x-python",
   "name": "python",
   "nbconvert_exporter": "python",
   "pygments_lexer": "ipython3",
   "version": "3.13.5"
  }
 },
 "nbformat": 4,
 "nbformat_minor": 5
}
