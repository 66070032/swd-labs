{
 "cells": [
  {
   "cell_type": "markdown",
   "metadata": {},
   "source": [
    "![erd](./images/ERD-week5-exercise.png)"
   ]
  },
  {
   "cell_type": "markdown",
   "metadata": {},
   "source": [
    "## Instruction\n",
    "\n",
    "1. ใช้ project myshop เดิมจากของ WEEK 4 มาทำต่อได้เลยครับ (ใครที่หา project ของ WEEK 4 ไม่เจอแล้ว ให้กลับไปทำตามขั้นตอนใน week4_exercises.ipynb)\n",
    "2. ใช้ database `shop` เดิมได้เลยเช่นกันครับ\n",
    "\n",
    "**หมายเหตุ: ถ้านักศึกษาใช้ database เดิมจาก WEEK4 ซึ่งนักศึกษาเคยเพิ่มหรือแก้ไขข้อมูลบางส่วนแล้ว ดังนั้น output อาจจะไม่ตรงกับในตัวอย่างทั้งหมดไม่ต้องตกใจนะครับ**"
   ]
  },
  {
   "cell_type": "code",
   "execution_count": 1,
   "metadata": {},
   "outputs": [],
   "source": [
    "import os\n",
    "os.environ['DJANGO_ALLOW_ASYNC_UNSAFE'] = \"true\"\n",
    "\n",
    "# import modules\n",
    "from shop.models import *"
   ]
  },
  {
   "cell_type": "markdown",
   "metadata": {},
   "source": [
    "### 1. annotate(), F()"
   ]
  },
  {
   "cell_type": "markdown",
   "metadata": {},
   "source": [
    "1.1 ให้นักศึกษา query ข้อมูล `Payment` โดยให้เพิ่ม field ราคาที่ลบกับส่วนลดแล้ว โดยกำหนดให้ชื่อ field ว่า \"after_discount_price\" โดยใช้แสดงข้อมูล 10 ตัวแรกเรียงตาม \"after_discount_price\" จากมากไปน้อย (0.25 คะแนน)\n",
    "\n",
    "**หมายเหตุ: จะต้องใช้ annotate() นะครับ ให้เอา `Payment.price` - `Payment.discount`**\n",
    "\n",
    "ตัวอย่าง Output\n",
    "\n",
    "```\n",
    "ID: 92, PRICE: 1200500.00, DISCOUNT 29433.25, AFTER_DISCOUNT 1171066.75\n",
    "ID: 82, PRICE: 1200280.00, DISCOUNT 46229.40, AFTER_DISCOUNT 1154050.60\n",
    "ID: 137, PRICE: 1200690.00, DISCOUNT 71407.25, AFTER_DISCOUNT 1129282.75\n",
    "ID: 105, PRICE: 1200390.00, DISCOUNT 105019.11, AFTER_DISCOUNT 1095370.89\n",
    "ID: 45, PRICE: 1218900.00, DISCOUNT 126859.95, AFTER_DISCOUNT 1092040.05\n",
    "ID: 7, PRICE: 1201200.00, DISCOUNT 113446.20, AFTER_DISCOUNT 1087753.80\n",
    "ID: 18, PRICE: 1202190.00, DISCOUNT 121922.64, AFTER_DISCOUNT 1080267.36\n",
    "ID: 77, PRICE: 379000.00, DISCOUNT 19397.00, AFTER_DISCOUNT 359603.00\n",
    "ID: 127, PRICE: 320450.00, DISCOUNT 14578.90, AFTER_DISCOUNT 305871.10\n",
    "ID: 125, PRICE: 320399.00, DISCOUNT 17939.55, AFTER_DISCOUNT 302459.45\n",
    "```"
   ]
  },
  {
   "cell_type": "code",
   "execution_count": 2,
   "metadata": {},
   "outputs": [
    {
     "name": "stdout",
     "output_type": "stream",
     "text": [
      "ID: 92, PRICE: 1200500.00, DISCOUNT: 29433.25, AFTER_DISCOUNT: 1171066.75\n",
      "ID: 82, PRICE: 1200280.00, DISCOUNT: 46229.40, AFTER_DISCOUNT: 1154050.60\n",
      "ID: 137, PRICE: 1200690.00, DISCOUNT: 71407.25, AFTER_DISCOUNT: 1129282.75\n",
      "ID: 105, PRICE: 1200390.00, DISCOUNT: 105019.11, AFTER_DISCOUNT: 1095370.89\n",
      "ID: 45, PRICE: 1218900.00, DISCOUNT: 126859.95, AFTER_DISCOUNT: 1092040.05\n",
      "ID: 7, PRICE: 1201200.00, DISCOUNT: 113446.20, AFTER_DISCOUNT: 1087753.80\n",
      "ID: 18, PRICE: 1202190.00, DISCOUNT: 121922.64, AFTER_DISCOUNT: 1080267.36\n",
      "ID: 77, PRICE: 379000.00, DISCOUNT: 19397.00, AFTER_DISCOUNT: 359603.00\n",
      "ID: 127, PRICE: 320450.00, DISCOUNT: 14578.90, AFTER_DISCOUNT: 305871.10\n",
      "ID: 125, PRICE: 320399.00, DISCOUNT: 17939.55, AFTER_DISCOUNT: 302459.45\n"
     ]
    }
   ],
   "source": [
    "afterDiscount = Payment.objects.annotate(after_discount_price=F(\"price\") - F(\"discount\")).order_by(\"-after_discount_price\")[:10]\n",
    "for ad in afterDiscount:\n",
    "    print(f\"ID: {ad.id}, PRICE: {ad.price}, DISCOUNT: {ad.discount}, AFTER_DISCOUNT: {ad.after_discount_price}\")"
   ]
  },
  {
   "cell_type": "markdown",
   "metadata": {},
   "source": [
    "1.2 ต่อเนื่องจากข้อ 1.1 ให้ filter เฉพาะข้อมูล `Payment` ที่มี \"after_discount_price\" มากกว่า 500,000 (0.25 คะแนน)\n",
    "\n",
    "ตัวอย่าง Output\n",
    "\n",
    "```\n",
    "ID: 92, PRICE: 1200500.00, DISCOUNT 29433.25, AFTER_DISCOUNT 1171066.75\n",
    "ID: 82, PRICE: 1200280.00, DISCOUNT 46229.40, AFTER_DISCOUNT 1154050.60\n",
    "ID: 137, PRICE: 1200690.00, DISCOUNT 71407.25, AFTER_DISCOUNT 1129282.75\n",
    "ID: 105, PRICE: 1200390.00, DISCOUNT 105019.11, AFTER_DISCOUNT 1095370.89\n",
    "ID: 45, PRICE: 1218900.00, DISCOUNT 126859.95, AFTER_DISCOUNT 1092040.05\n",
    "ID: 7, PRICE: 1201200.00, DISCOUNT 113446.20, AFTER_DISCOUNT 1087753.80\n",
    "ID: 18, PRICE: 1202190.00, DISCOUNT 121922.64, AFTER_DISCOUNT 1080267.36\n",
    "```"
   ]
  },
  {
   "cell_type": "code",
   "execution_count": 3,
   "metadata": {},
   "outputs": [
    {
     "name": "stdout",
     "output_type": "stream",
     "text": [
      "ID: 92, PRICE: 1200500.00, DISCOUNT: 29433.25, AFTER_DISCOUNT: 1171066.75\n",
      "ID: 82, PRICE: 1200280.00, DISCOUNT: 46229.40, AFTER_DISCOUNT: 1154050.60\n",
      "ID: 137, PRICE: 1200690.00, DISCOUNT: 71407.25, AFTER_DISCOUNT: 1129282.75\n",
      "ID: 105, PRICE: 1200390.00, DISCOUNT: 105019.11, AFTER_DISCOUNT: 1095370.89\n",
      "ID: 45, PRICE: 1218900.00, DISCOUNT: 126859.95, AFTER_DISCOUNT: 1092040.05\n",
      "ID: 7, PRICE: 1201200.00, DISCOUNT: 113446.20, AFTER_DISCOUNT: 1087753.80\n",
      "ID: 18, PRICE: 1202190.00, DISCOUNT: 121922.64, AFTER_DISCOUNT: 1080267.36\n"
     ]
    }
   ],
   "source": [
    "afterDiscount = Payment.objects.annotate(after_discount_price=F(\"price\") - F(\"discount\")).order_by(\"-after_discount_price\").filter(after_discount_price__gt=500000)[:10]\n",
    "for ad in afterDiscount:\n",
    "    print(f\"ID: {ad.id}, PRICE: {ad.price}, DISCOUNT: {ad.discount}, AFTER_DISCOUNT: {ad.after_discount_price}\")"
   ]
  },
  {
   "cell_type": "markdown",
   "metadata": {},
   "source": [
    "1.3 ให้นักศึกษาเรียงลำดับข้อมูลลูกค้า (`Customer`) โดยเรียงลำดับตามลำดับตัวอักษร `น้อยไปมาก` (A-Z) จากชื่อเต็มของลูกค้า (`full_name`) โดยแสดง 5 คนแรก (0.5 คะแนน)\n",
    "\n",
    "**Hint:** Field `full_name` นั้นจะต้องถูก annotate ขึ้นมาโดยการนำ `first_name` มาต่อกับ `last_name` โดยใช้ `Concat(*expressions, **extra)` \n",
    "\n",
    "**Hint:** แปลง object เป็น dict ใช้ `values()` [doc](https://docs.djangoproject.com/en/5.0/ref/models/querysets/#values)\n",
    "\n",
    "```python\n",
    ">>> Blog.objects.filter(name__startswith=\"Beatles\").values()\n",
    "<QuerySet [{'id': 1, 'name': 'Beatles Blog', 'tagline': 'All the latest Beatles news.'}]>\n",
    "```\n",
    "\n",
    "**Hint:** อยาก print dictionary สวยๆ ใช้ `json.dumps`\n",
    "\n",
    "```python\n",
    "print(json.dumps(dictionary, indent=4, sort_keys=False))\n",
    "```\n",
    "\n",
    "[doc](https://docs.djangoproject.com/en/5.0/ref/models/database-functions/#concat)\n",
    "\n",
    "ตัวอย่าง Output \n",
    "\n",
    "```python\n",
    "{\n",
    "    \"id\": 17,\n",
    "    \"email\": \"anantaya.deena@gmail.com\",\n",
    "    \"address\": {\n",
    "        \"district\": \"Yan Nawa\",\n",
    "        \"location\": \"60 Thanon Chan Road\",\n",
    "        \"province\": \"Bangkok\",\n",
    "        \"postal_code\": 10120\n",
    "    },\n",
    "    \"full_name\": \"Anantaya Tontong\"\n",
    "}\n",
    "{\n",
    "    \"id\": 25,\n",
    "    \"email\": \"bancha.zeyou@gmail.com\",\n",
    "    \"address\": {\n",
    "        \"district\": \"Watthana\",\n",
    "        \"location\": \"6 Thong Lo Road\",\n",
    "        \"province\": \"Bangkok\",\n",
    "        \"postal_code\": 10110\n",
    "    },\n",
    "    \"full_name\": \"Bancha Kittisompong\"\n",
    "}\n",
    "{\n",
    "    \"id\": 19,\n",
    "    \"email\": \"chayapol.231@gmail.com\",\n",
    "    \"address\": {\n",
    "        \"district\": \"Hang Chat\",\n",
    "        \"location\": \"160 Lampang Road\",\n",
    "        \"province\": \"Lampang\",\n",
    "        \"postal_code\": 52190\n",
    "    },\n",
    "    \"full_name\": \"Chayapol Komprach\"\n",
    "}\n",
    "{\n",
    "    \"id\": 4,\n",
    "    \"email\": \"dejwit.tt@gmail.com\",\n",
    "    \"address\": {\n",
    "        \"district\": \"Chiang Khan\",\n",
    "        \"location\": \"150 Loei Road\",\n",
    "        \"province\": \"Loei\",\n",
    "        \"postal_code\": 42110\n",
    "    },\n",
    "    \"full_name\": \"Dejwit Tangjareonsakul\"\n",
    "}\n",
    "{\n",
    "    \"id\": 11,\n",
    "    \"email\": \"jack.maa@gmail.com\",\n",
    "    \"address\": {\n",
    "        \"district\": \"Bang Khen\",\n",
    "        \"location\": \"88 Phahonyothin Road\",\n",
    "        \"province\": \"Bangkok\",\n",
    "        \"postal_code\": 10220\n",
    "    },\n",
    "    \"full_name\": \"Jack Maa\"\n",
    "}\n",
    "\n",
    "```"
   ]
  },
  {
   "cell_type": "code",
   "execution_count": 4,
   "metadata": {},
   "outputs": [
    {
     "name": "stdout",
     "output_type": "stream",
     "text": [
      "[\n",
      "    {\n",
      "        \"id\": 17,\n",
      "        \"email\": \"anantaya.deena@gmail.com\",\n",
      "        \"address\": {\n",
      "            \"district\": \"Yan Nawa\",\n",
      "            \"location\": \"60 Thanon Chan Road\",\n",
      "            \"province\": \"Bangkok\",\n",
      "            \"postal_code\": 10120\n",
      "        },\n",
      "        \"full_name\": \"Anantaya Tontong\"\n",
      "    },\n",
      "    {\n",
      "        \"id\": 25,\n",
      "        \"email\": \"bancha.zeyou@gmail.com\",\n",
      "        \"address\": {\n",
      "            \"district\": \"Watthana\",\n",
      "            \"location\": \"6 Thong Lo Road\",\n",
      "            \"province\": \"Bangkok\",\n",
      "            \"postal_code\": 10110\n",
      "        },\n",
      "        \"full_name\": \"Bancha Kittisompong\"\n",
      "    },\n",
      "    {\n",
      "        \"id\": 19,\n",
      "        \"email\": \"chayapol.231@gmail.com\",\n",
      "        \"address\": {\n",
      "            \"district\": \"Hang Chat\",\n",
      "            \"location\": \"160 Lampang Road\",\n",
      "            \"province\": \"Lampang\",\n",
      "            \"postal_code\": 52190\n",
      "        },\n",
      "        \"full_name\": \"Chayapol Komprach\"\n",
      "    },\n",
      "    {\n",
      "        \"id\": 4,\n",
      "        \"email\": \"dejwit.tt@gmail.com\",\n",
      "        \"address\": {\n",
      "            \"district\": \"Chiang Khan\",\n",
      "            \"location\": \"150 Loei Road\",\n",
      "            \"province\": \"Loei\",\n",
      "            \"postal_code\": 42110\n",
      "        },\n",
      "        \"full_name\": \"Dejwit Tangjareonsakul\"\n",
      "    },\n",
      "    {\n",
      "        \"id\": 11,\n",
      "        \"email\": \"jack.maa@gmail.com\",\n",
      "        \"address\": {\n",
      "            \"district\": \"Bang Khen\",\n",
      "            \"location\": \"88 Phahonyothin Road\",\n",
      "            \"province\": \"Bangkok\",\n",
      "            \"postal_code\": 10220\n",
      "        },\n",
      "        \"full_name\": \"Jack Maa\"\n",
      "    }\n",
      "]\n"
     ]
    }
   ],
   "source": [
    "from django.db.models import CharField, Value as V\n",
    "from django.db.models.functions import Concat\n",
    "import json\n",
    "\n",
    "customer = Customer.objects.annotate(\n",
    "    full_name=Concat(\"first_name\", V(\" \"), \"last_name\")\n",
    ").values(\"id\", \"email\", \"address\", \"full_name\").order_by(\"full_name\")[:5]\n",
    "\n",
    "print(json.dumps(list(customer), indent=4, sort_keys=False))"
   ]
  },
  {
   "cell_type": "markdown",
   "metadata": {},
   "source": [
    "### 3. aggregation - count(), sum(), avg()\n"
   ]
  },
  {
   "cell_type": "markdown",
   "metadata": {},
   "source": [
    "3.1 ให้นักศึกษาหาค่าเฉลี่ยของราคาสินค้า (`Product.price`) ที่มีจำนวนคงเหลือ (`Product.remaining_amount`) มากกว่า 0 (0.2 คะแนน)\n",
    "\n",
    "``` PYTHON\n",
    "{'avg': Decimal('29308.000000000000')}\n",
    "```\n"
   ]
  },
  {
   "cell_type": "code",
   "execution_count": 5,
   "metadata": {},
   "outputs": [
    {
     "data": {
      "text/plain": [
       "{'avg': Decimal('29308.000000000000')}"
      ]
     },
     "execution_count": 5,
     "metadata": {},
     "output_type": "execute_result"
    }
   ],
   "source": [
    "from django.db.models import Avg\n",
    "Product.objects.filter(remaining_amount__gt=0).aggregate(\n",
    "    avg=Avg(\"price\")\n",
    ")"
   ]
  },
  {
   "cell_type": "markdown",
   "metadata": {},
   "source": [
    "3.2 จงหาผลรวมราคา (`CartItem.product.price`) ที่อยู่ในตระกร้าสินค้าของเดือน `พฤษภาคม` (ดูจาก `Cart.create_date`) (0.2 คะแนน)\n",
    "\n",
    "```PYTHON\n",
    "{'sum': Decimal('9912555.00')}\n",
    "\n",
    "```"
   ]
  },
  {
   "cell_type": "code",
   "execution_count": 6,
   "metadata": {
    "scrolled": false
   },
   "outputs": [
    {
     "data": {
      "text/plain": [
       "{'sum': Decimal('9912555.00')}"
      ]
     },
     "execution_count": 6,
     "metadata": {},
     "output_type": "execute_result"
    }
   ],
   "source": [
    "CartItem.objects.filter(cart__create_date__month=5).aggregate(\n",
    "    sum=Sum(\"product__price\")\n",
    ")"
   ]
  },
  {
   "cell_type": "markdown",
   "metadata": {},
   "source": [
    "3.3 ให้นักศึกษานับจำนวนสินค้าที่อยู่ประเภท `Electronics`,  `Jewelry` และ ราคาของสินค้าอยู่ในช่วง 8,000.00 - 50,000.00 (0.2 คะแนน)\n",
    "\n",
    "```\n",
    "PRODUCT CATEGORY NAME: Electronics, PRODUCT COUNT: 6\n",
    "PRODUCT CATEGORY NAME: Jewelry, PRODUCT COUNT: 1\n",
    "```"
   ]
  },
  {
   "cell_type": "code",
   "execution_count": 7,
   "metadata": {},
   "outputs": [
    {
     "name": "stdout",
     "output_type": "stream",
     "text": [
      "PRODUCT CATEGORY NAME: Electronics, PRODUCT COUNT: 6\n",
      "PRODUCT CATEGORY NAME: Jewelry, PRODUCT COUNT: 1\n"
     ]
    }
   ],
   "source": [
    "filtered_products = Product.objects.filter(\n",
    "    categories__name__in=[\"Electronics\", \"Jewelry\"],\n",
    "    price__gte=8000,\n",
    "    price__lte=50000\n",
    ")\n",
    "result = filtered_products.values('categories__name').annotate(product_count=Count('id'))\n",
    "for item in result:\n",
    "    print(f\"PRODUCT CATEGORY NAME: {item['categories__name']}, PRODUCT COUNT: {item['product_count']}\")"
   ]
  },
  {
   "cell_type": "markdown",
   "metadata": {},
   "source": [
    "3.4 ให้นักศึกษามีการใช้ `Subquery` เพื่อหาคำสั่งซื้อ (`Order`) ล่าสุดของลูกค้า (`Customer`) แต่ละคน โดยมีการเรียงลำดับคำสั่งซื้อตามวันที่ที่สั่งซื้อ และแสดงผลข้อมูลตามตัวอย่างที่กำหนดไว้ (0.4 คะแนน)\n",
    "```txt\n",
    "# ตัวอย่างผลลัพธ์บางส่วน\n",
    "CUSTOMER NAME: Sek Loso, ORDER DATE: 2024-05-13\n",
    "CUSTOMER NAME: Warit Pititat, ORDER DATE: 2024-05-26\n",
    "CUSTOMER NAME: Chayapol Komprach, ORDER DATE: 2024-05-26\n",
    "CUSTOMER NAME: Kwantip Aekopas, ORDER DATE: 2024-05-28\n",
    "CUSTOMER NAME: Kerikwan Laopong, ORDER DATE: 2024-05-30\n",
    "CUSTOMER NAME: Pattanapoom Srisawangjan, ORDER DATE: 2024-05-30\n",
    "CUSTOMER NAME: Manit Senapan, ORDER DATE: 2024-06-06\n",
    "CUSTOMER NAME: Techathorn Sriwanwilai, ORDER DATE: 2024-06-07\n",
    "CUSTOMER NAME: Anantaya Tontong, ORDER DATE: 2024-06-08\n",
    "CUSTOMER NAME: Kittitorn Wilairat, ORDER DATE: 2024-06-11\n",
    "...\n",
    "```"
   ]
  },
  {
   "cell_type": "code",
   "execution_count": 8,
   "metadata": {},
   "outputs": [
    {
     "name": "stdout",
     "output_type": "stream",
     "text": [
      "CUSTOMER NAME: Sek Loso, ORDER DATE: 2024-05-13\n",
      "CUSTOMER NAME: Warit Pititat, ORDER DATE: 2024-05-26\n",
      "CUSTOMER NAME: Chayapol Komprach, ORDER DATE: 2024-05-26\n",
      "CUSTOMER NAME: Kwantip Aekopas, ORDER DATE: 2024-05-28\n",
      "CUSTOMER NAME: Kerikwan Laopong, ORDER DATE: 2024-05-30\n",
      "CUSTOMER NAME: Pattanapoom Srisawangjan, ORDER DATE: 2024-05-30\n",
      "CUSTOMER NAME: Manit Senapan, ORDER DATE: 2024-06-06\n",
      "CUSTOMER NAME: Techathorn Sriwanwilai, ORDER DATE: 2024-06-07\n",
      "CUSTOMER NAME: Anantaya Tontong, ORDER DATE: 2024-06-08\n",
      "CUSTOMER NAME: Kittitorn Wilairat, ORDER DATE: 2024-06-11\n",
      "CUSTOMER NAME: Porntipa Pasakul, ORDER DATE: 2024-06-12\n",
      "CUSTOMER NAME: Peeraya Wichienchan, ORDER DATE: 2024-06-13\n",
      "CUSTOMER NAME: Rachanon Hongpatra, ORDER DATE: 2024-06-14\n",
      "CUSTOMER NAME: Suwichada Jarastham, ORDER DATE: 2024-06-14\n",
      "CUSTOMER NAME: Pong Sawadiwong, ORDER DATE: 2024-06-15\n",
      "CUSTOMER NAME: Dejwit Tangjareonsakul, ORDER DATE: 2024-06-16\n",
      "CUSTOMER NAME: Bancha Kittisompong, ORDER DATE: 2024-06-17\n",
      "CUSTOMER NAME: Yanisa Nantapak, ORDER DATE: 2024-06-17\n",
      "CUSTOMER NAME: Jakkapob Sopapak, ORDER DATE: 2024-06-18\n",
      "CUSTOMER NAME: Jenjira Sukanansarn, ORDER DATE: 2024-06-18\n",
      "CUSTOMER NAME: Sira Pititat, ORDER DATE: 2024-06-19\n",
      "CUSTOMER NAME: Jack Maa, ORDER DATE: 2024-06-19\n",
      "CUSTOMER NAME: Wanaporn Klabpetch, ORDER DATE: 2024-06-20\n",
      "CUSTOMER NAME: Thitirat Sukkesorn, ORDER DATE: 2024-06-21\n",
      "CUSTOMER NAME: Panita Hongsakulpan, ORDER DATE: 2024-06-22\n",
      "CUSTOMER NAME: stave klolas, ORDER DATE: 2024-06-22\n",
      "CUSTOMER NAME: Yanisa Thongchaiyapoom, ORDER DATE: 2024-06-22\n",
      "CUSTOMER NAME: Phuwadech Siriwanich, ORDER DATE: 2024-06-23\n",
      "CUSTOMER NAME: Pakin Janpen, ORDER DATE: 2024-06-23\n",
      "CUSTOMER NAME: Trinnapon Yinggnam, ORDER DATE: 2024-06-23\n"
     ]
    }
   ],
   "source": [
    "from django.db.models import OuterRef, Subquery, Sum\n",
    "latest_order_date = Order.objects.filter(\n",
    "    customer=OuterRef('pk')\n",
    ").order_by('-order_date').values('order_date')[:1]\n",
    "\n",
    "customers = Customer.objects.annotate(\n",
    "    latest_order=Subquery(latest_order_date)\n",
    ").filter(latest_order__isnull=False).order_by('latest_order')\n",
    "\n",
    "for customer in customers:\n",
    "    print(f\"CUSTOMER NAME: {customer.first_name} {customer.last_name}, ORDER DATE: {customer.latest_order}\")"
   ]
  },
  {
   "cell_type": "markdown",
   "metadata": {},
   "source": [
    "### 4. one-to-one & one-to-many"
   ]
  },
  {
   "cell_type": "markdown",
   "metadata": {},
   "source": [
    "4.1 จงสร้าง Order และ Payment ของลูกค้า Sek Loso จำนวน 2 รายการ โดยแต่ละ Order มีสินค้า 1 รายการ และชำระเงินด้วย Payment คนละรายการ จากนั้น เขียน query แสดงข้อมูล Order และ Payment ทั้งหมดของ Sek Loso (0.25 คะแนน)\n",
    "```txt\n",
    "# ตัวอย่างผลลัพธ์บางส่วน\n",
    "CUSTOMER: Sek Loso, ORDER ID: 48, PRICE: 1699.00, DISCOUNT: 112.27, PRODUCT: Bird Cage\n",
    "CUSTOMER: Sek Loso, ORDER ID: 59, PRICE: 1740.00, DISCOUNT: 140.81, PRODUCT: Microwave Oven\n",
    "```"
   ]
  },
  {
   "cell_type": "code",
   "execution_count": 18,
   "metadata": {
    "scrolled": true
   },
   "outputs": [
    {
     "name": "stdout",
     "output_type": "stream",
     "text": [
      "<QuerySet [<Order: Order object (48)>, <Order: Order object (59)>, <Order: Order object (184)>, <Order: Order object (185)>]>\n",
      "CUSTOMER: Sek Loso, ORDER ID: 48, PRICE: 700.00, DISCOUNT: 31.85, PRODUCT: Bird Cage\n",
      "CUSTOMER: Sek Loso, ORDER ID: 59, PRICE: 1290.00, DISCOUNT: 121.91, PRODUCT: Microwave Oven\n",
      "CUSTOMER: Sek Loso, ORDER ID: 184, PRICE: 5900.00, DISCOUNT: 0.00, PRODUCT: Smartphone\n",
      "CUSTOMER: Sek Loso, ORDER ID: 185, PRICE: 25999.00, DISCOUNT: 0.00, PRODUCT: Laptop\n"
     ]
    }
   ],
   "source": [
    "from django.db.models import Q\n",
    "from datetime import datetime\n",
    "customer = Customer.objects.get(Q(first_name=\"Sek\") & Q(last_name=\"Loso\"))\n",
    "\n",
    "# product1 = Product.objects.get(id=1)\n",
    "# product2 = Product.objects.get(id=2)\n",
    "\n",
    "# order1 = Order.objects.create(customer=customer, order_date=datetime.now().date())\n",
    "# orderItem1 = OrderItem.objects.create(order=order1, product=product1, amount=1)\n",
    "# payment1 = Payment.objects.create(order=order1, payment_date=datetime.now().date(), price=product1.price)\n",
    "# paymentItem1 = PaymentItem.objects.create(payment=payment1, order_item=orderItem1, price=product1.price)\n",
    "# paymentMethod1 = PaymentMethod.objects.create(payment=payment1, method=\"QR\", price=product1.price)\n",
    "\n",
    "# order2 = Order.objects.create(customer=customer, order_date=datetime.now().date())\n",
    "# orderItem2 = OrderItem.objects.create(order=order2, product=product2, amount=1)\n",
    "# payment2 = Payment.objects.create(order=order2, payment_date=datetime.now().date(), price=product2.price)\n",
    "# paymentItem2 = PaymentItem.objects.create(payment=payment2, order_item=orderItem2, price=product2.price)\n",
    "# paymentMethod2 = PaymentMethod.objects.create(payment=payment2, method=\"QR\", price=product2.price)\n",
    "\n",
    "orders = Order.objects.filter(customer__first_name=\"Sek\", customer__last_name=\"Loso\")\n",
    "print(orders)\n",
    "for order in orders:\n",
    "    # ดึงสินค้าใน order\n",
    "    order_item = OrderItem.objects.filter(order=order).first()\n",
    "    product = order_item.product\n",
    "    price = product.price\n",
    "    discount = order_item.paymentitem.discount\n",
    "    print(f\"CUSTOMER: Sek Loso, ORDER ID: {order.id}, PRICE: {price}, DISCOUNT: {discount}, PRODUCT: {product.name}\")\n",
    "    \n",
    "# print(f\"CUSTOMER: Sek Loso, ORDER ID: {order1.id}, PRICE: {product1.price}, DISCOUNT: 0.0, PRODUCT: {product1.name}\")\n",
    "# print(f\"CUSTOMER: Sek Loso, ORDER ID: {order2.id}, PRICE: {product2.price}, DISCOUNT: 0.0, PRODUCT: {product2.name}\")"
   ]
  },
  {
   "cell_type": "markdown",
   "metadata": {},
   "source": [
    "4.2 ให้นักศึกษาดึงข้อมูล `Payment` ที่มี `PaymentMethod` ที่เป็น 'CREDIT' และมีราคาหลังหักส่วนลด (`Payment.price` - `Payment.discount`) ต่ำกว่า 500 และให้แสดงจำนวนของ `PaymentItem` ของแต่ละรายการ Payment (0.25 คะแนน)\n",
    "```txt\n",
    "# ตัวอย่างผลลัพธ์\n",
    "PAYMENT ID: 40, AFTER_DISCOUNT: 493.06, ITEM COUNT: 2\n",
    "PAYMENT ID: 13, AFTER_DISCOUNT: 448.54, ITEM COUNT: 2\n",
    "```"
   ]
  },
  {
   "cell_type": "code",
   "execution_count": 19,
   "metadata": {
    "scrolled": true
   },
   "outputs": [
    {
     "name": "stdout",
     "output_type": "stream",
     "text": [
      "PAYMENT ID: 13, AFTER_DISCOUNT: 448.54, ITEM COUNT: 2\n",
      "PAYMENT ID: 40, AFTER_DISCOUNT: 493.06, ITEM COUNT: 2\n"
     ]
    }
   ],
   "source": [
    "payment = Payment.objects.annotate(after_discount=F(\"price\")-F(\"discount\")).filter(after_discount__lt=500, paymentmethod__method=\"CREDIT\").values()\n",
    "for i in payment:\n",
    "    paymentItem = PaymentItem.objects.filter(payment_id=i['id'])\n",
    "    print(f\"PAYMENT ID: {i['id']}, AFTER_DISCOUNT: {i['after_discount']}, ITEM COUNT: {paymentItem.count()}\")"
   ]
  },
  {
   "cell_type": "markdown",
   "metadata": {},
   "source": [
    "### 5. many-to-many"
   ]
  },
  {
   "cell_type": "markdown",
   "metadata": {},
   "source": [
    "5.1 ให้นักศึกษาค้นหาข้อมูลสินค้า (`Product`) ที่อยู่ในทั้งหมวดหมู่สินค้า \"Information Technology\" และ \"Electronics\" 10 รายการแรก (เรียงลำดับด้วย `Product.id`) และแสดงชื่อประเภทสินค้า (`ProductCategory`) (0.25 คะแนน)\n",
    "\n",
    "ตัวอย่าง Output บางส่วน\n",
    "\n",
    "```\n",
    "PRODUCT ID: 1, PRODUCT NAME: Smartphone, PRODUCT CATEGORY: Information technology, Electronics\n",
    "PRODUCT ID: 2, PRODUCT NAME: Laptop, PRODUCT CATEGORY: Information technology, Electronics\n",
    "PRODUCT ID: 3, PRODUCT NAME: Smart TV, PRODUCT CATEGORY: Information technology, Electronics\n",
    "```"
   ]
  },
  {
   "cell_type": "code",
   "execution_count": 86,
   "metadata": {},
   "outputs": [
    {
     "name": "stdout",
     "output_type": "stream",
     "text": [
      "PRODUCT ID: 4, PRODUCT NAME: Bluetooth Earphones, PRODUCT CATEGORY: Information Technology, Electronics\n",
      "PRODUCT ID: 10, PRODUCT NAME: Smartwatch, PRODUCT CATEGORY: Information Technology, Electronics\n",
      "PRODUCT ID: 6, PRODUCT NAME: Gaming Console, PRODUCT CATEGORY: Information Technology, Electronics\n",
      "PRODUCT ID: 2, PRODUCT NAME: Laptop, PRODUCT CATEGORY: Information Technology, Electronics\n",
      "PRODUCT ID: 9, PRODUCT NAME: Portable Power Bank, PRODUCT CATEGORY: Information Technology, Electronics\n",
      "PRODUCT ID: 7, PRODUCT NAME: Digital Camera, PRODUCT CATEGORY: Information Technology, Electronics\n",
      "PRODUCT ID: 3, PRODUCT NAME: Smart TV, PRODUCT CATEGORY: Information Technology, Electronics\n",
      "PRODUCT ID: 1, PRODUCT NAME: Smartphone, PRODUCT CATEGORY: Information Technology, Electronics\n",
      "PRODUCT ID: 5, PRODUCT NAME: Tablet, PRODUCT CATEGORY: Information Technology, Electronics\n",
      "PRODUCT ID: 8, PRODUCT NAME: Wireless Router, PRODUCT CATEGORY: Information Technology, Electronics\n"
     ]
    }
   ],
   "source": [
    "products = Product.objects.filter(Q(categories__name=\"Electronics\") & Q(categories__name=\"Information Technology\")).values(\"name\", \"categories\")\n",
    "products = Product.objects.annotate(count_categories=Count(\"categories\")).filter(count_categories__gte=2)\n",
    "for i in products:\n",
    "    category_pro = i.categories.all().values_list(\"name\", flat=True)\n",
    "    if \"Information Technology\" in category_pro and \"Electronics\" in category_pro:\n",
    "        categories_str = ', '.join(category_pro)\n",
    "        print(f\"PRODUCT ID: {i.id}, PRODUCT NAME: {i.name}, PRODUCT CATEGORY: {categories_str}\")\n",
    "# print(products)\n",
    "# for i in products:\n",
    "#     print(f\"PRODUCT ID: {i.id}, PRODUCT NAME: {i.name}, PRODUCT CATEGORY: \")\n",
    "#     print(i.categories.all().values(\"name\"))"
   ]
  },
  {
   "cell_type": "code",
   "execution_count": null,
   "metadata": {},
   "outputs": [],
   "source": []
  },
  {
   "cell_type": "markdown",
   "metadata": {},
   "source": [
    "5.2 ให้นักศึกษาทำตามขั้นตอนดังนี้ (0.25 คะแนน)\n",
    "\n",
    "1. เปลี่ยนชื่อหมวดหมู่สินค้า `Electronics` เป็น `Electronics and Toys` แทน\n",
    "2. ย้ายสินค้าที่อยู่ใน `Toys and Games` ไปอยู่ในหมวดหมู่ `Electronics and Toys` และ ลบหมวดหมู่สินค้า `Toys and Games` \n",
    "3. ค้นหาว่าสินค้าที่มีประเภทสินค้าเป็น `Electronics and Toys` ทั้งหมดมีจำนวนเท่าไหร่"
   ]
  },
  {
   "cell_type": "code",
   "execution_count": 234,
   "metadata": {},
   "outputs": [
    {
     "name": "stdout",
     "output_type": "stream",
     "text": [
      "TOTAL PRODUCTS IN 'Electronics and Toys': 30\n"
     ]
    }
   ],
   "source": [
    "electronics = ProductCategory.objects.get(name=\"Electronics\")\n",
    "electronics.name = \"Electronics and Toys\"\n",
    "electronics.save()\n",
    "\n",
    "toys = ProductCategory.objects.get(name=\"Toys and Games\")\n",
    "electronics_and_toys = ProductCategory.objects.get(name=\"Electronics and Toys\")\n",
    "\n",
    "products_in_toys = Product.objects.filter(categories=toys)\n",
    "for product in products_in_toys:\n",
    "    product.categories.add(electronics_and_toys)\n",
    "\n",
    "for product in products_in_toys:\n",
    "    product.categories.remove(toys)\n",
    "\n",
    "toys.delete()\n",
    "\n",
    "product_count = Product.objects.filter(\n",
    "    categories__name=\"Electronics and Toys\"\n",
    ").distinct().count()\n",
    "\n",
    "print(f\"TOTAL PRODUCTS IN 'Electronics and Toys': {product_count}\")"
   ]
  }
 ],
 "metadata": {
  "kernelspec": {
   "display_name": "Django Shell-Plus",
   "language": "python",
   "name": "django_extensions"
  },
  "language_info": {
   "codemirror_mode": {
    "name": "ipython",
    "version": 3
   },
   "file_extension": ".py",
   "mimetype": "text/x-python",
   "name": "python",
   "nbconvert_exporter": "python",
   "pygments_lexer": "ipython3",
   "version": "3.13.5"
  }
 },
 "nbformat": 4,
 "nbformat_minor": 2
}
